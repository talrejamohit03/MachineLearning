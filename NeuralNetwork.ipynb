{
  "nbformat": 4,
  "nbformat_minor": 0,
  "metadata": {
    "kernelspec": {
      "display_name": "Python 3",
      "language": "python",
      "name": "python3"
    },
    "language_info": {
      "codemirror_mode": {
        "name": "ipython",
        "version": 3
      },
      "file_extension": ".py",
      "mimetype": "text/x-python",
      "name": "python",
      "nbconvert_exporter": "python",
      "pygments_lexer": "ipython3",
      "version": "3.7.4"
    },
    "colab": {
      "name": "NN Final Final.ipynb",
      "provenance": [],
      "collapsed_sections": []
    }
  },
  "cells": [
    {
      "cell_type": "markdown",
      "metadata": {
        "id": "uP5hgXNLaV1u"
      },
      "source": [
        "# MACHINE LEARNING LAB ASSIGNMENT\n",
        "\n",
        "\n",
        "# Neural Network Assignment\n",
        "\n",
        "\n",
        "### NAME     : **MOHIT TALREJA**\n",
        "\n",
        "### ROLL NO. : **177237**"
      ]
    },
    {
      "cell_type": "code",
      "metadata": {
        "id": "1GFxGWFLO3gc"
      },
      "source": [
        "from sklearn.datasets import fetch_openml\n",
        "from keras.utils.np_utils import to_categorical\n",
        "import numpy as np\n",
        "from sklearn.model_selection import train_test_split\n",
        "import time"
      ],
      "execution_count": 1,
      "outputs": []
    },
    {
      "cell_type": "markdown",
      "metadata": {
        "id": "yCWbT-dmb6vI"
      },
      "source": [
        "### Loading the MNIST Dataset"
      ]
    },
    {
      "cell_type": "code",
      "metadata": {
        "id": "fp0XF0WzapFF"
      },
      "source": [
        "features, labels = fetch_openml('mnist_784', version=1, return_X_y=True)"
      ],
      "execution_count": 2,
      "outputs": []
    },
    {
      "cell_type": "markdown",
      "metadata": {
        "id": "D49MHtMuc-0I"
      },
      "source": [
        "## Preprocessing"
      ]
    },
    {
      "cell_type": "markdown",
      "metadata": {
        "id": "HyajgOeZbLUo"
      },
      "source": [
        "Normalizing the feature set:\n",
        "\n",
        "Each entry is a value between 0 and 255. It is brought to a value between 0 and 1 so as to avoid issues with activation function calculations. (Overflowing when taken directly as it is)"
      ]
    },
    {
      "cell_type": "code",
      "metadata": {
        "id": "0XV08rNSbGPZ"
      },
      "source": [
        "features = (features/255).astype('float32')"
      ],
      "execution_count": 3,
      "outputs": []
    },
    {
      "cell_type": "markdown",
      "metadata": {
        "id": "5cxYnu99cJKQ"
      },
      "source": [
        "Converting the labels to 1-hot encoded format so as to allow for simple subtraction in delta calculation step at the outputs of the network."
      ]
    },
    {
      "cell_type": "code",
      "metadata": {
        "id": "By6YqRNHbIUs"
      },
      "source": [
        "labels = to_categorical(labels)"
      ],
      "execution_count": 4,
      "outputs": []
    },
    {
      "cell_type": "markdown",
      "metadata": {
        "id": "NfQMD-84cfA4"
      },
      "source": [
        "Splitting into training and testing parts"
      ]
    },
    {
      "cell_type": "code",
      "metadata": {
        "id": "PkiflyCCcbTZ"
      },
      "source": [
        "X_train, X_test, Y_train, Y_test = train_test_split(features, labels, test_size=0.15, random_state=37)"
      ],
      "execution_count": 5,
      "outputs": []
    },
    {
      "cell_type": "markdown",
      "metadata": {
        "id": "fC9C8HgzczsT"
      },
      "source": [
        "### Neural Network Construction\n",
        "\n",
        "**Number of Neurons in Input Layer** = 28 x 28 = 784\n",
        "\n",
        "**Number of Hidden Layers** = 2\n",
        "\n",
        "**Number of Neurons in Output Layer** = Number of prediction labels = 10\n",
        "\n",
        "**Weighted Sum:**\n",
        "This is the scalar dot product of the 2 vectors, weights and features.\n",
        "\n",
        "$ z = \\sum_{i=0}^{n}w_{i}.x_{i}$\n",
        "\n",
        "**Activation Function for Hidden Layer Units**: \n",
        "The sigmoid activation function takes input the weighted sum and computes the following - \n",
        "\n",
        "$f(z) = \\frac{1}{1+e^{-z}}$\n",
        "\n",
        "**Activation Function for Output Layer Units**:\n",
        "The softmax activation function takes input the weighted sum of outputs from hidden layer units and computes the following - \n",
        "\n",
        "$softmax(z) = \\frac{exp(z)}{\\sum_{j}^{ }exp(z_j)}$\n",
        "\n",
        "This softmax gives us the probability of each prediction label.\n",
        "\n",
        "**Forward Propogation**\n",
        "\n",
        "Hidden layer 1 takes input the feature tuple, computes weighted sum, applies sigmoid activation to calculate the output.\n",
        "\n",
        "Hidden layer 2 takes input as the outputs from hidden layer 1, computes weighted sum, applies sigmoid activation to calculate the output.\n",
        "\n",
        "Output layer takes input as the outputs from hidden layer 2, computes weighted sum, applies softmax activation to calculate prediction of each label digit.\n",
        "\n",
        "**Backward Propogation**\n",
        "\n",
        "Calculates the delta (change) values of network parameters:\n",
        "\n",
        "Output layer's delta value is calculated with difference between actual labelled outputs (1-hot encoded vector) and the prediciton values from forward propogation step along with the softmax derivative of it's output.\n",
        "\n",
        "Hidden layer 1's delta value is calculated with weighted sum of delta values of output layer along with the sigmoid derivative of it's output.\n",
        "\n",
        "Hidden layer 2's delta value is calculated with weighted sum of delta values of hidden layer 1 along with the sigmoid derivative of it's output.\n",
        "\n",
        "**Training the Model**\n",
        "\n",
        "Repeat for EPOCH iterations of the dataset:\n",
        "\n",
        "Forward propogate features\n",
        "\n",
        "Backpropogate errors\n",
        "\n",
        "Update weights (stochastic update)"
      ]
    },
    {
      "cell_type": "code",
      "metadata": {
        "id": "w9DrD8XPP4v6"
      },
      "source": [
        "class NeuralNetwork():\n",
        "    #Initializing the network\n",
        "    def __init__(self, sizes, epochs=50, lRate=0.01):\n",
        "        self.sizes = sizes # Number of neurons in each layer\n",
        "        self.epochs = epochs\n",
        "        self.lRate = lRate # Learning rate\n",
        "        self.parameters = self.initParameters()\n",
        "\n",
        "    def sigmoid(self, x, derivative=False):\n",
        "        if derivative:\n",
        "            return (np.exp(-x))/((np.exp(-x)+1)**2)\n",
        "        return 1/(1 + np.exp(-x))\n",
        "\n",
        "    def softmax(self, x, derivative=False):\n",
        "        exps = np.exp(x - x.max())\n",
        "        if derivative:\n",
        "            return exps / np.sum(exps, axis=0) * (1 - exps / np.sum(exps, axis=0))\n",
        "        return exps / np.sum(exps, axis=0)\n",
        "    \n",
        "    # Initializing the weights and biases of the network\n",
        "    def initParameters(self):\n",
        "        input_layer=self.sizes[0]\n",
        "        hidden_1=self.sizes[1]\n",
        "        hidden_2=self.sizes[2]\n",
        "        output_layer=self.sizes[3]\n",
        "\n",
        "        # Initializing all weights to values between 0 and 1 \n",
        "        parameters = {\n",
        "            'W1':np.random.randn(hidden_1, input_layer) * np.sqrt(1. / hidden_1),\n",
        "            'W2':np.random.randn(hidden_2, hidden_1) * np.sqrt(1. / hidden_2),\n",
        "            'W3':np.random.randn(output_layer, hidden_2) * np.sqrt(1. / output_layer)\n",
        "        }\n",
        "\n",
        "        return parameters\n",
        "\n",
        "    def forwardPropogate(self, X_train):\n",
        "        parameters = self.parameters\n",
        "        # A0 denotes input to hidden layer 1, which is the feature vector\n",
        "        parameters['A0'] = X_train\n",
        "        # Z1 is weighted sum of inputs\n",
        "        parameters['Z1'] = np.dot(parameters[\"W1\"], parameters['A0'])\n",
        "        # A1 denotes input to hidden layer 2, which is the output of hidden layer 1\n",
        "        parameters['A1'] = self.sigmoid(parameters['Z1'])\n",
        "\n",
        "        # Z2 is weighted sum of outputs from hidden layer 1\n",
        "        parameters['Z2'] = np.dot(parameters[\"W2\"], parameters['A1'])\n",
        "        # A2 denotes input to output layer, which is the output of hidden layer 2\n",
        "        parameters['A2'] = self.sigmoid(parameters['Z2'])\n",
        "\n",
        "        # Z3 is weighted sum of outputs from hidden layer 2\n",
        "        parameters['Z3'] = np.dot(parameters[\"W3\"], parameters['A2'])\n",
        "        # A3 denotes final prediction\n",
        "        parameters['A3'] = self.softmax(parameters['Z3'])\n",
        "\n",
        "        return parameters['A3']\n",
        "\n",
        "    def backwardPropogate(self, y_train, output):\n",
        "        \n",
        "        parameters = self.parameters\n",
        "        deltaW = {}\n",
        "\n",
        "        # Output layer's delta\n",
        "        delta = 2 * (output - y_train) / output.shape[0] * self.softmax(parameters['Z3'], derivative=True)\n",
        "        # Weight change value for output layer\n",
        "        deltaW['W3'] = np.outer(delta, parameters['A2'])\n",
        "\n",
        "        # weights and delta have the same shape, so we need to perform transpose on weights to calculate dot product\n",
        "        \n",
        "        # Hidden layer 1's delta is weighted sum of delta values of output layer's neurons\n",
        "        delta = np.dot(parameters['W3'].T, delta) * self.sigmoid(parameters['Z2'], derivative=True)\n",
        "        # Weight change value for hidden layer 1\n",
        "        deltaW['W2'] = np.outer(delta, parameters['A1'])\n",
        "\n",
        "        # Hidden layer 2's delta is weighted sum of delta values of hidden layer 1's neurons\n",
        "        delta = np.dot(parameters['W2'].T, delta) * self.sigmoid(parameters['Z1'], derivative=True)\n",
        "        # Weight change value for hidden layer 2\n",
        "        deltaW['W1'] = np.outer(delta, parameters['A0'])\n",
        "\n",
        "        return deltaW\n",
        "\n",
        "    def updateParameters(self, deltaW):\n",
        "        \n",
        "        for key, value in deltaW.items():\n",
        "            self.parameters[key] -= self.lRate * value\n",
        "\n",
        "    def calculateAccuracy(self, X_test, Y_test):\n",
        "        predictions = []\n",
        "\n",
        "        for x, y in zip(X_test, Y_test):\n",
        "            output = self.forwardPropogate(x)\n",
        "            pred = np.argmax(output)\n",
        "            predictions.append(pred == np.argmax(y))\n",
        "        \n",
        "        return np.mean(predictions)\n",
        "\n",
        "    def train(self, X_train, y_train, X_test, Y_test):\n",
        "        start_time = time.time()\n",
        "        for iteration in range(self.epochs):\n",
        "            for x,y in zip(X_train, y_train):\n",
        "                output = self.forwardPropogate(x)\n",
        "                deltaW = self.backwardPropogate(y, output)\n",
        "                self.updateParameters(deltaW)\n",
        "            \n",
        "            accuracy = self.calculateAccuracy(X_test, Y_test)\n",
        "            print('Epoch: {0}, Time Spent: {1:.2f}s, Accuracy: {2:.2f}%'.format(\n",
        "                iteration+1, time.time() - start_time, accuracy * 100\n",
        "            ))"
      ],
      "execution_count": 6,
      "outputs": []
    },
    {
      "cell_type": "markdown",
      "metadata": {
        "id": "SnzcCiTnH7Cv"
      },
      "source": [
        "**Number of neurons:** \n",
        "\n",
        "Input layer = 784\n",
        "\n",
        "Hidden layer 1 = 32\n",
        "\n",
        "Hidden layer 2 = 16\n",
        "\n",
        "Output layer = 10"
      ]
    },
    {
      "cell_type": "code",
      "metadata": {
        "id": "_OadvE2ivmBP",
        "outputId": "eaee5716-7b6f-4457-e4e0-6c71cdd3820a",
        "colab": {
          "base_uri": "https://localhost:8080/",
          "height": 0
        }
      },
      "source": [
        "nnObj = NeuralNetwork(sizes=[784, 32, 16, 10])\n",
        "nnObj.train(X_train, Y_train, X_test, Y_test)"
      ],
      "execution_count": 7,
      "outputs": [
        {
          "output_type": "stream",
          "text": [
            "Epoch: 1, Time Spent: 19.55s, Accuracy: 24.60%\n",
            "Epoch: 2, Time Spent: 39.08s, Accuracy: 35.35%\n",
            "Epoch: 3, Time Spent: 58.59s, Accuracy: 52.96%\n",
            "Epoch: 4, Time Spent: 78.14s, Accuracy: 58.15%\n",
            "Epoch: 5, Time Spent: 97.65s, Accuracy: 66.39%\n",
            "Epoch: 6, Time Spent: 117.24s, Accuracy: 71.50%\n",
            "Epoch: 7, Time Spent: 136.80s, Accuracy: 75.10%\n",
            "Epoch: 8, Time Spent: 156.33s, Accuracy: 77.62%\n",
            "Epoch: 9, Time Spent: 175.88s, Accuracy: 78.64%\n",
            "Epoch: 10, Time Spent: 201.47s, Accuracy: 79.17%\n",
            "Epoch: 11, Time Spent: 221.07s, Accuracy: 79.56%\n",
            "Epoch: 12, Time Spent: 241.16s, Accuracy: 79.93%\n",
            "Epoch: 13, Time Spent: 260.71s, Accuracy: 80.18%\n",
            "Epoch: 14, Time Spent: 280.26s, Accuracy: 80.73%\n",
            "Epoch: 15, Time Spent: 299.88s, Accuracy: 81.19%\n",
            "Epoch: 16, Time Spent: 319.47s, Accuracy: 81.50%\n",
            "Epoch: 17, Time Spent: 339.06s, Accuracy: 81.80%\n",
            "Epoch: 18, Time Spent: 358.63s, Accuracy: 82.09%\n",
            "Epoch: 19, Time Spent: 378.17s, Accuracy: 82.26%\n",
            "Epoch: 20, Time Spent: 397.72s, Accuracy: 82.37%\n",
            "Epoch: 21, Time Spent: 417.32s, Accuracy: 82.64%\n",
            "Epoch: 22, Time Spent: 436.94s, Accuracy: 82.80%\n",
            "Epoch: 23, Time Spent: 456.51s, Accuracy: 82.97%\n",
            "Epoch: 24, Time Spent: 476.10s, Accuracy: 83.10%\n",
            "Epoch: 25, Time Spent: 495.68s, Accuracy: 83.21%\n",
            "Epoch: 26, Time Spent: 515.20s, Accuracy: 83.36%\n",
            "Epoch: 27, Time Spent: 534.84s, Accuracy: 83.57%\n",
            "Epoch: 28, Time Spent: 554.47s, Accuracy: 83.69%\n",
            "Epoch: 29, Time Spent: 574.03s, Accuracy: 83.90%\n",
            "Epoch: 30, Time Spent: 593.71s, Accuracy: 84.07%\n",
            "Epoch: 31, Time Spent: 613.26s, Accuracy: 84.22%\n",
            "Epoch: 32, Time Spent: 632.79s, Accuracy: 84.34%\n",
            "Epoch: 33, Time Spent: 652.34s, Accuracy: 84.37%\n",
            "Epoch: 34, Time Spent: 671.92s, Accuracy: 84.48%\n",
            "Epoch: 35, Time Spent: 691.47s, Accuracy: 84.47%\n",
            "Epoch: 36, Time Spent: 711.02s, Accuracy: 84.48%\n",
            "Epoch: 37, Time Spent: 730.65s, Accuracy: 84.52%\n",
            "Epoch: 38, Time Spent: 750.17s, Accuracy: 84.59%\n",
            "Epoch: 39, Time Spent: 769.74s, Accuracy: 84.64%\n",
            "Epoch: 40, Time Spent: 789.31s, Accuracy: 84.68%\n",
            "Epoch: 41, Time Spent: 814.49s, Accuracy: 84.71%\n",
            "Epoch: 42, Time Spent: 834.03s, Accuracy: 84.75%\n",
            "Epoch: 43, Time Spent: 853.65s, Accuracy: 84.77%\n",
            "Epoch: 44, Time Spent: 873.17s, Accuracy: 84.80%\n",
            "Epoch: 45, Time Spent: 892.78s, Accuracy: 84.82%\n",
            "Epoch: 46, Time Spent: 912.35s, Accuracy: 84.89%\n",
            "Epoch: 47, Time Spent: 931.95s, Accuracy: 84.97%\n",
            "Epoch: 48, Time Spent: 951.44s, Accuracy: 84.98%\n",
            "Epoch: 49, Time Spent: 970.96s, Accuracy: 85.02%\n",
            "Epoch: 50, Time Spent: 990.46s, Accuracy: 85.04%\n"
          ],
          "name": "stdout"
        }
      ]
    },
    {
      "cell_type": "markdown",
      "metadata": {
        "id": "pKjfstSCIis9"
      },
      "source": [
        "### Loading Handwritten Character Dataset"
      ]
    },
    {
      "cell_type": "code",
      "metadata": {
        "id": "tSUoFa7L_T3B",
        "outputId": "7c9a21df-c1d8-4f2e-b1b1-a8adcca78e39",
        "colab": {
          "base_uri": "https://localhost:8080/",
          "height": 0
        }
      },
      "source": [
        "from google.colab import drive\n",
        "drive.mount('/content/gdrive')"
      ],
      "execution_count": 13,
      "outputs": [
        {
          "output_type": "stream",
          "text": [
            "Mounted at /content/gdrive\n"
          ],
          "name": "stdout"
        }
      ]
    },
    {
      "cell_type": "code",
      "metadata": {
        "id": "a0aj540v_pgq"
      },
      "source": [
        "import os\n",
        "os.environ['KAGGLE_CONFIG_DIR'] = \"/content/gdrive/My Drive/Kaggle\""
      ],
      "execution_count": 14,
      "outputs": []
    },
    {
      "cell_type": "code",
      "metadata": {
        "id": "97uOqBD-_wVs",
        "outputId": "356a3e24-02f3-4db5-dbf3-d00d067f8145",
        "colab": {
          "base_uri": "https://localhost:8080/",
          "height": 0
        }
      },
      "source": [
        "#changing the working directory\n",
        "%cd /content/gdrive/My Drive/Kaggle"
      ],
      "execution_count": 15,
      "outputs": [
        {
          "output_type": "stream",
          "text": [
            "/content/gdrive/My Drive/Kaggle\n"
          ],
          "name": "stdout"
        }
      ]
    },
    {
      "cell_type": "code",
      "metadata": {
        "id": "vm_4Ku20_4Sl",
        "outputId": "93373e58-389b-41a4-a909-958f5e2b74c6",
        "colab": {
          "base_uri": "https://localhost:8080/",
          "height": 0
        }
      },
      "source": [
        "!kaggle datasets download -d sachinpatel21/az-handwritten-alphabets-in-csv-format"
      ],
      "execution_count": 16,
      "outputs": [
        {
          "output_type": "stream",
          "text": [
            "Downloading az-handwritten-alphabets-in-csv-format.zip to /content/gdrive/My Drive/Kaggle\n",
            " 96% 177M/185M [00:07<00:00, 21.5MB/s]\n",
            "100% 185M/185M [00:07<00:00, 24.4MB/s]\n"
          ],
          "name": "stdout"
        }
      ]
    },
    {
      "cell_type": "code",
      "metadata": {
        "id": "Xxd9BbKjAE58",
        "outputId": "9176999b-70ad-41ac-baf1-34dd882abb11",
        "colab": {
          "base_uri": "https://localhost:8080/",
          "height": 0
        }
      },
      "source": [
        "!ls"
      ],
      "execution_count": 17,
      "outputs": [
        {
          "output_type": "stream",
          "text": [
            "az-handwritten-alphabets-in-csv-format.zip  kaggle.json\n"
          ],
          "name": "stdout"
        }
      ]
    },
    {
      "cell_type": "code",
      "metadata": {
        "id": "GniQCS9YAHlV",
        "outputId": "329caaa8-f3f7-483c-b4a4-79ac223f36b1",
        "colab": {
          "base_uri": "https://localhost:8080/",
          "height": 0
        }
      },
      "source": [
        "#unzipping the zip files and deleting the zip files\n",
        "!unzip \\*.zip  && rm *.zip"
      ],
      "execution_count": 18,
      "outputs": [
        {
          "output_type": "stream",
          "text": [
            "Archive:  az-handwritten-alphabets-in-csv-format.zip\n",
            "  inflating: A_Z Handwritten Data.csv  \n",
            "  inflating: A_Z Handwritten Data/A_Z Handwritten Data.csv  \n"
          ],
          "name": "stdout"
        }
      ]
    },
    {
      "cell_type": "code",
      "metadata": {
        "id": "QGTRoqhNARvb",
        "outputId": "c7778eef-f9ca-4d79-9cd6-c5393affadbf",
        "colab": {
          "base_uri": "https://localhost:8080/",
          "height": 0
        }
      },
      "source": [
        "!ls"
      ],
      "execution_count": 19,
      "outputs": [
        {
          "output_type": "stream",
          "text": [
            "'A_Z Handwritten Data'\t'A_Z Handwritten Data.csv'   kaggle.json\n"
          ],
          "name": "stdout"
        }
      ]
    },
    {
      "cell_type": "code",
      "metadata": {
        "id": "Y2Du68vaAaHD",
        "outputId": "7b38c17d-fd3b-47cf-dbac-c7bab7d6521a",
        "colab": {
          "base_uri": "https://localhost:8080/",
          "height": 0
        }
      },
      "source": [
        "df = pd.read_csv('A_Z Handwritten Data.csv')\n",
        "print(df.shape)"
      ],
      "execution_count": 24,
      "outputs": [
        {
          "output_type": "stream",
          "text": [
            "(372450, 785)\n"
          ],
          "name": "stdout"
        }
      ]
    },
    {
      "cell_type": "markdown",
      "metadata": {
        "id": "JThYrgF2ItTz"
      },
      "source": [
        "Taking subset of the dataset (first 60000 rows)"
      ]
    },
    {
      "cell_type": "code",
      "metadata": {
        "id": "bkTkFGJlCs2_"
      },
      "source": [
        "df = np.array(df)\n",
        "X = df[:60000,1:785]\n",
        "Y = df[:60000,0:1]"
      ],
      "execution_count": 48,
      "outputs": []
    },
    {
      "cell_type": "code",
      "metadata": {
        "id": "ov2jjjxFDH_D",
        "outputId": "6992646d-d48d-433f-f376-a3f25f010810",
        "colab": {
          "base_uri": "https://localhost:8080/",
          "height": 0
        }
      },
      "source": [
        "print(X.shape)\n",
        "print(Y.shape)\n",
        "print(np.unique(Y))"
      ],
      "execution_count": 49,
      "outputs": [
        {
          "output_type": "stream",
          "text": [
            "(60000, 784)\n",
            "(60000, 1)\n",
            "[0 1 2 3 4]\n"
          ],
          "name": "stdout"
        }
      ]
    },
    {
      "cell_type": "markdown",
      "metadata": {
        "id": "ylu7ZuRgIzq1"
      },
      "source": [
        "Normalizing feature set entries and converting labels to 1-hot encoded form (same as above done for MNIST dataset)"
      ]
    },
    {
      "cell_type": "code",
      "metadata": {
        "id": "BPuy55OwFQHx"
      },
      "source": [
        "X = (X/255).astype('float32')\n",
        "Y = to_categorical(Y)\n"
      ],
      "execution_count": 50,
      "outputs": []
    },
    {
      "cell_type": "code",
      "metadata": {
        "id": "Mt_DnkMlDh6G"
      },
      "source": [
        "CX_train, CX_test, CY_train, CY_test = train_test_split(X, Y, test_size=0.15, random_state=37)"
      ],
      "execution_count": 45,
      "outputs": []
    },
    {
      "cell_type": "markdown",
      "metadata": {
        "id": "qRvmbQSNIY3U"
      },
      "source": [
        "**Number of neurons:** \n",
        "\n",
        "Input layer = 784\n",
        "\n",
        "Hidden layer 1 = 64\n",
        "\n",
        "Hidden layer 2 = 32\n",
        "\n",
        "Output layer = 5"
      ]
    },
    {
      "cell_type": "code",
      "metadata": {
        "id": "RwBLKWjWDwiv",
        "outputId": "a9b8dd75-675b-4bf1-e957-7e4998326134",
        "colab": {
          "base_uri": "https://localhost:8080/",
          "height": 0
        }
      },
      "source": [
        "nnObjChar = NeuralNetwork(sizes=[784, 64, 32, 5],epochs=5)\n",
        "nnObjChar.train(CX_train, CY_train, CX_test, CY_test)"
      ],
      "execution_count": 51,
      "outputs": [
        {
          "output_type": "stream",
          "text": [
            "Epoch: 1, Time Spent: 30.26s, Accuracy: 88.08%\n",
            "Epoch: 2, Time Spent: 60.59s, Accuracy: 91.08%\n",
            "Epoch: 3, Time Spent: 90.86s, Accuracy: 93.29%\n",
            "Epoch: 4, Time Spent: 121.14s, Accuracy: 94.41%\n",
            "Epoch: 5, Time Spent: 151.34s, Accuracy: 94.78%\n"
          ],
          "name": "stdout"
        }
      ]
    },
    {
      "cell_type": "markdown",
      "metadata": {
        "id": "YfRkLnEDTasE"
      },
      "source": [
        "### Adaline Multi Layer Network for learning XOR Logic"
      ]
    },
    {
      "cell_type": "code",
      "metadata": {
        "id": "NASFITudSy96"
      },
      "source": [
        "X_XOR = np.array([[0,0],[0,1],[1,0],[1,1]])\n",
        "Y_XOR = [0,1,1,0]"
      ],
      "execution_count": 52,
      "outputs": []
    },
    {
      "cell_type": "code",
      "metadata": {
        "id": "3LShaQ2mTBys",
        "outputId": "585a9fc2-2b7e-4d98-ccc0-b7fa88c69b80",
        "colab": {
          "base_uri": "https://localhost:8080/",
          "height": 0
        }
      },
      "source": [
        "nnObjChar = NeuralNetwork(sizes=[2, 3, 2, 1],epochs=5)\n",
        "nnObjChar.train(X_XOR, Y_XOR, X_XOR, Y_XOR)"
      ],
      "execution_count": 53,
      "outputs": [
        {
          "output_type": "stream",
          "text": [
            "Epoch: 1, Time Spent: 0.00s, Accuracy: 100.00%\n",
            "Epoch: 2, Time Spent: 0.00s, Accuracy: 100.00%\n",
            "Epoch: 3, Time Spent: 0.01s, Accuracy: 100.00%\n",
            "Epoch: 4, Time Spent: 0.01s, Accuracy: 100.00%\n",
            "Epoch: 5, Time Spent: 0.01s, Accuracy: 100.00%\n"
          ],
          "name": "stdout"
        }
      ]
    }
  ]
}
