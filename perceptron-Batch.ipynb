{
 "cells": [
  {
   "cell_type": "markdown",
   "metadata": {},
   "source": [
    "# MACHINE LEARNING LAB ASSIGNMENT\n",
    "\n",
    "\n",
    "# PERCEPTRON LEARNING ALGORITHM\n",
    "\n",
    "\n",
    "### NAME     : **MOHIT TALREJA**\n",
    "\n",
    "### ROLL NO. : **177237**"
   ]
  },
  {
   "cell_type": "code",
   "execution_count": 1,
   "metadata": {},
   "outputs": [],
   "source": [
    "import numpy as np\n",
    "import pandas as pd\n",
    "from sklearn.model_selection import train_test_split"
   ]
  },
  {
   "cell_type": "markdown",
   "metadata": {},
   "source": [
    "The function predict takes two parameters:\n",
    "\n",
    "- the weights array $w_{0},w_{1},...,w_{n}$ , here, n=number of features\n",
    "- features array for a single row in the dataset, each entry being of the form $x_{0},x_{1},...,x_{n}$.\n",
    "\n",
    "The function computes the equation,\n",
    "\n",
    "$\\sum_{i=0}^{n}w_{i}.x_{i}$\n",
    "\n",
    "where $x_{0} = 1$, \n",
    "\n",
    "This is the scalar dot product of the 2 vectors, weights and features.\n",
    "\n",
    "If this value is greater than 0, then perceptron should predict the output to be 1, otherwise 0.\n",
    "It returns this prediction to the function call."
   ]
  },
  {
   "cell_type": "code",
   "execution_count": 2,
   "metadata": {},
   "outputs": [],
   "source": [
    "def predict(weights,features):\n",
    "    \n",
    "    summation = np.dot(weights,features.transpose()) #scalar dot product\n",
    "\n",
    "    if(summation>0):\n",
    "        prediction = 1\n",
    "    else:\n",
    "        prediction = -1\n",
    "    \n",
    "    return prediction"
   ]
  },
  {
   "cell_type": "markdown",
   "metadata": {},
   "source": [
    "The perceptronTrain function below takes 4 parameters:\n",
    "- features: the 2d features array containing all data points and their feature values(the first column must be filled with 1s)\n",
    "- labels: the observed/actual values from the dataset\n",
    "- num_iter: number of epochs for which the training algorithm is to be run\n",
    "- l_rate: learning rate hyperparameter\n",
    "\n",
    "It first initializes the weights to 0. The size of the array will be equal to the number of features (first column of the passed features array has all entries as 1, so it is actually number of features in the dataset + 1).\n",
    "In each iteration, it will iterate through all the rows in the dataset. It calls the predict function above to get the predicted value of the label.\n",
    "\n",
    "If the observed value is the same as the predicted value, then weights will remain the same.\n",
    "Else, weights will be updated as per the equation \n",
    "\n",
    "$w_{i} = w_{i} + \\alpha.(observed - predicted).x_{i}$\n",
    "\n",
    "$\\alpha$ = learning rate hyperparameter value\n",
    "\n",
    "The function returns the weights array to the function call."
   ]
  },
  {
   "cell_type": "code",
   "execution_count": 3,
   "metadata": {},
   "outputs": [],
   "source": [
    "def perceptronTrain(features,labels,num_iter,l_rate):\n",
    "    \n",
    "    weights = np.full((1,features.shape[1]),0.2) #initializing weights array to 0s\n",
    "  \n",
    "    for epoch in range(num_iter):\n",
    "        delta_w = np.zeros(shape=(1,features.shape[1]))\n",
    "        for i in range(len(features)):\n",
    "            \n",
    "            prediction = predict(weights,features.iloc[i,:]) #prediction for current row\n",
    "            print(\"Train ex = \",features.iloc[i,:],\"prediction = \",prediction)\n",
    "            delta_w += l_rate *(labels[i]-prediction)*features.iloc[i,:] #updating weights' values\n",
    "            print(\"after Train example \",i,\"delta w is \",delta_w)\n",
    "        weights+=delta_w\n",
    "        print(\"After epoch \",epoch,\"weights are \",weights)\n",
    "    return weights"
   ]
  },
  {
   "cell_type": "markdown",
   "metadata": {},
   "source": [
    "**Dataset:**\n",
    "Prediction of breast cancer whether it is Malignant or Benign\n",
    "\n",
    "Multivariate dataset that has 32 attributes\n",
    "1. ID number\n",
    "2. Diagnosis (M = malignant, B = benign) -> Output Label\n",
    "\n",
    "Ten real-valued features are computed for each cell nucleus:\n",
    "\n",
    "1. radius (mean of distances from center to points on the perimeter)\n",
    "2. texture (standard deviation of gray-scale values)\n",
    "3. perimeter\n",
    "4. area\n",
    "5. smoothness (local variation in radius lengths)\n",
    "6. compactness (perimeter^2 / area - 1.0)\n",
    "7. concavity (severity of concave portions of the contour)\n",
    "8. concave points (number of concave portions of the contour)\n",
    "9. symmetry\n",
    "10. fractal dimension (\"coastline approximation\" - 1)"
   ]
  },
  {
   "cell_type": "code",
   "execution_count": 4,
   "metadata": {},
   "outputs": [],
   "source": [
    "# data = pd.read_csv('https://archive.ics.uci.edu/ml/machine-learning-databases/breast-cancer-wisconsin/wdbc.data', \n",
    "#                    header = None)\n",
    "# print(data)"
   ]
  },
  {
   "cell_type": "markdown",
   "metadata": {},
   "source": [
    "### Preprocessing\n",
    "\n",
    "Excluding the first 2 columns in feature vector as 1st column is ID number and 2nd column is the output label.\n",
    "Output labels are str type, converting them to boolean values 1 for Malignant(M) and 0 for Benign(B)."
   ]
  },
  {
   "cell_type": "code",
   "execution_count": 5,
   "metadata": {},
   "outputs": [],
   "source": [
    "# X = data.iloc[:,2:] \n",
    "# X.insert(0,0,1) #Setting 1st column to 1s, i.e, setting x0 in equation to 1\n",
    "# y = data.iloc[:,1] #Output labels are as M,B string values\n",
    "# y_ = [] #making new output labels as 1 or 0\n",
    "# for label in y:\n",
    "#     if(label == \"M\"):\n",
    "#         y_.append(1) #1 for Malignant\n",
    "#     else:\n",
    "#         y_.append(0) #0 for Benign"
   ]
  },
  {
   "cell_type": "markdown",
   "metadata": {},
   "source": [
    "### Training"
   ]
  },
  {
   "cell_type": "code",
   "execution_count": 6,
   "metadata": {},
   "outputs": [],
   "source": [
    "# #Splitting the dataset into training and testing\n",
    "# X_train, X_test, y_train, y_test = train_test_split(X, y_, test_size=0.33,random_state =  37)"
   ]
  },
  {
   "cell_type": "code",
   "execution_count": 7,
   "metadata": {},
   "outputs": [],
   "source": [
    "# NUM_EPOCHS = 10\n",
    "# LEARNING_RATE = 0.1"
   ]
  },
  {
   "cell_type": "code",
   "execution_count": 8,
   "metadata": {},
   "outputs": [],
   "source": [
    "# #calling perceptron training algorithm to get learned weights \n",
    "# w = perceptronTrain(X_train,y_train,NUM_EPOCHS,LEARNING_RATE)\n",
    "# print(\"Weights = \", end='')\n",
    "# print(w)"
   ]
  },
  {
   "cell_type": "markdown",
   "metadata": {},
   "source": [
    "\n",
    "\n",
    "### Prediction Metrics on Test Data\n",
    "\n",
    "Generating the number of correctly predicted output labels on test data and then calculating the accuracy of the model as\n",
    "\n",
    "\n",
    "100*(Number of correctly predicted outputs of Test Data)/(Size of Test Data)"
   ]
  },
  {
   "cell_type": "code",
   "execution_count": 9,
   "metadata": {},
   "outputs": [],
   "source": [
    "# correct_predictions = 0\n",
    "\n",
    "# for i in range(len(y_test)):\n",
    "#     #getting prediction for corresponding test data values from the learned model\n",
    "#     prediction = predict(w,X_test.iloc[i,:])\n",
    "    \n",
    "#     if(prediction == y_test[i]):\n",
    "#         #if predicted value is the same as observed, it is a correct prediction\n",
    "#         correct_predictions+=1; \n",
    "\n",
    "# print(\"Correctly predicted \"+str(correct_predictions)+\" out of \"+str(len(y_test)))\n",
    "# print(\"Accuracy = \"+str(100*correct_predictions/len(y_test)))"
   ]
  },
  {
   "cell_type": "markdown",
   "metadata": {},
   "source": [
    "### Perceptron Learning Algorithm on Logic Gates"
   ]
  },
  {
   "cell_type": "code",
   "execution_count": 10,
   "metadata": {},
   "outputs": [
    {
     "name": "stdout",
     "output_type": "stream",
     "text": [
      "Train ex =  0    1\n",
      "1    0\n",
      "2    0\n",
      "Name: 0, dtype: int64 prediction =  1\n",
      "after Train example  0 delta w is  [[-0.4  0.   0. ]]\n",
      "Train ex =  0    1\n",
      "1    0\n",
      "2    1\n",
      "Name: 1, dtype: int64 prediction =  1\n",
      "after Train example  1 delta w is  [[-0.8  0.  -0.4]]\n",
      "Train ex =  0    1\n",
      "1    1\n",
      "2    0\n",
      "Name: 2, dtype: int64 prediction =  1\n",
      "after Train example  2 delta w is  [[-1.2 -0.4 -0.4]]\n",
      "Train ex =  0    1\n",
      "1    1\n",
      "2    1\n",
      "Name: 3, dtype: int64 prediction =  1\n",
      "after Train example  3 delta w is  [[-1.2 -0.4 -0.4]]\n",
      "After epoch  0 weights are  [[-1.  -0.2 -0.2]]\n",
      "Train ex =  0    1\n",
      "1    0\n",
      "2    0\n",
      "Name: 0, dtype: int64 prediction =  -1\n",
      "after Train example  0 delta w is  [[0. 0. 0.]]\n",
      "Train ex =  0    1\n",
      "1    0\n",
      "2    1\n",
      "Name: 1, dtype: int64 prediction =  -1\n",
      "after Train example  1 delta w is  [[0. 0. 0.]]\n",
      "Train ex =  0    1\n",
      "1    1\n",
      "2    0\n",
      "Name: 2, dtype: int64 prediction =  -1\n",
      "after Train example  2 delta w is  [[0. 0. 0.]]\n",
      "Train ex =  0    1\n",
      "1    1\n",
      "2    1\n",
      "Name: 3, dtype: int64 prediction =  -1\n",
      "after Train example  3 delta w is  [[0.4 0.4 0.4]]\n",
      "After epoch  1 weights are  [[-0.6  0.2  0.2]]\n",
      "Train ex =  0    1\n",
      "1    0\n",
      "2    0\n",
      "Name: 0, dtype: int64 prediction =  1\n",
      "after Train example  0 delta w is  [[-0.2  0.   0. ]]\n",
      "Train ex =  0    1\n",
      "1    0\n",
      "2    1\n",
      "Name: 1, dtype: int64 prediction =  1\n",
      "after Train example  1 delta w is  [[-0.2  0.   0. ]]\n",
      "Train ex =  0    1\n",
      "1    1\n",
      "2    0\n",
      "Name: 2, dtype: int64 prediction =  1\n",
      "after Train example  2 delta w is  [[-0.2  0.   0. ]]\n",
      "Train ex =  0    1\n",
      "1    1\n",
      "2    1\n",
      "Name: 3, dtype: int64 prediction =  1\n",
      "after Train example  3 delta w is  [[-0.2  0.   0. ]]\n",
      "After epoch  0 weights are  [[0.  0.2 0.2]]\n",
      "Train ex =  0    1\n",
      "1    0\n",
      "2    0\n",
      "Name: 0, dtype: int64 prediction =  -1\n",
      "after Train example  0 delta w is  [[0.2 0.  0. ]]\n",
      "Train ex =  0    1\n",
      "1    0\n",
      "2    1\n",
      "Name: 1, dtype: int64 prediction =  1\n",
      "after Train example  1 delta w is  [[0.2 0.  0. ]]\n",
      "Train ex =  0    1\n",
      "1    1\n",
      "2    0\n",
      "Name: 2, dtype: int64 prediction =  1\n",
      "after Train example  2 delta w is  [[0.2 0.  0. ]]\n",
      "Train ex =  0    1\n",
      "1    1\n",
      "2    1\n",
      "Name: 3, dtype: int64 prediction =  1\n",
      "after Train example  3 delta w is  [[0.2 0.  0. ]]\n",
      "After epoch  1 weights are  [[0.2 0.2 0.2]]\n",
      "Weights for AND logic perceptron: \n",
      "[[-0.6  0.2  0.2]]\n",
      "Weights for OR logic perceptron: \n",
      "[[0.2 0.2 0.2]]\n"
     ]
    }
   ],
   "source": [
    "X_LOGIC = pd.DataFrame([[1,0,0],[1,0,1],[1,1,0],[1,1,1]])\n",
    "Y_AND = [-1,-1,-1,1] #output labels for AND gate\n",
    "Y_OR = [0,1,1,1] #output labels for OR gate\n",
    "\n",
    "#training on inputs\n",
    "weights_AND = perceptronTrain(X_LOGIC,Y_AND,2,0.2)\n",
    "weights_OR = perceptronTrain(X_LOGIC,Y_OR,2,0.2)\n",
    "\n",
    "print(\"Weights for AND logic perceptron: \")\n",
    "print(weights_AND)\n",
    "print(\"Weights for OR logic perceptron: \")\n",
    "print(weights_OR)"
   ]
  },
  {
   "cell_type": "code",
   "execution_count": 11,
   "metadata": {},
   "outputs": [
    {
     "name": "stdout",
     "output_type": "stream",
     "text": [
      "AND LOGIC perceptron\n",
      "\n",
      " 0  0 output = -1\n",
      " 0  1 output = -1\n",
      " 1  0 output = -1\n",
      " 1  1 output = -1\n"
     ]
    }
   ],
   "source": [
    "print('AND LOGIC perceptron\\n')\n",
    "for i in range(len(X_LOGIC)):\n",
    "    prediction = predict(weights_AND,X_LOGIC.iloc[i,:])\n",
    "    print(X_LOGIC.iloc[[i],[1,2]].to_string(index=False,header=False),end = ' output = ')\n",
    "    print(prediction)"
   ]
  },
  {
   "cell_type": "code",
   "execution_count": 12,
   "metadata": {},
   "outputs": [
    {
     "name": "stdout",
     "output_type": "stream",
     "text": [
      "OR LOGIC perceptron\n",
      "\n",
      " 0  0 output = 1\n",
      " 0  1 output = 1\n",
      " 1  0 output = 1\n",
      " 1  1 output = 1\n"
     ]
    }
   ],
   "source": [
    "print('OR LOGIC perceptron\\n')\n",
    "for i in range(len(X_LOGIC)):\n",
    "    prediction = predict(weights_OR,X_LOGIC.iloc[i,:])\n",
    "    print(X_LOGIC.iloc[[i],[1,2]].to_string(index=False,header=False),end = ' output = ')\n",
    "    print(prediction)"
   ]
  }
 ],
 "metadata": {
  "kernelspec": {
   "display_name": "Python 3",
   "language": "python",
   "name": "python3"
  },
  "language_info": {
   "codemirror_mode": {
    "name": "ipython",
    "version": 3
   },
   "file_extension": ".py",
   "mimetype": "text/x-python",
   "name": "python",
   "nbconvert_exporter": "python",
   "pygments_lexer": "ipython3",
   "version": "3.7.4"
  }
 },
 "nbformat": 4,
 "nbformat_minor": 2
}
