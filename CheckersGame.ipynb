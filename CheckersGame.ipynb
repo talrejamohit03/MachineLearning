{
  "nbformat": 4,
  "nbformat_minor": 0,
  "metadata": {
    "kernelspec": {
      "display_name": "Python 3",
      "language": "python",
      "name": "python3"
    },
    "language_info": {
      "codemirror_mode": {
        "name": "ipython",
        "version": 3
      },
      "file_extension": ".py",
      "mimetype": "text/x-python",
      "name": "python",
      "nbconvert_exporter": "python",
      "pygments_lexer": "ipython3",
      "version": "3.7.4"
    },
    "colab": {
      "name": "CheckersGame.ipynb",
      "provenance": [],
      "collapsed_sections": []
    }
  },
  "cells": [
    {
      "cell_type": "markdown",
      "metadata": {
        "id": "vgFmXBn9z4-Q"
      },
      "source": [
        "# MACHINE LEARNING LAB ASSIGNMENT\n",
        "\n",
        "\n",
        "# CHECKERS GAME\n",
        "\n",
        "\n",
        "### NAME     : **MOHIT TALREJA**\n",
        "\n",
        "### ROLL NO. : **177237**"
      ]
    },
    {
      "cell_type": "code",
      "metadata": {
        "id": "dLu3uuNOz4-Q"
      },
      "source": [
        "import numpy as np\n",
        "import random\n",
        "import copy"
      ],
      "execution_count": 1,
      "outputs": []
    },
    {
      "cell_type": "markdown",
      "metadata": {
        "id": "naYzQtT7z4-Q"
      },
      "source": [
        "This Board Size parameter can be varied and set to any value"
      ]
    },
    {
      "cell_type": "code",
      "metadata": {
        "id": "ksgX7JT-z4-Q"
      },
      "source": [
        "BoardSize = 8"
      ],
      "execution_count": 2,
      "outputs": []
    },
    {
      "cell_type": "markdown",
      "metadata": {
        "id": "lvJXSll7z4-Q"
      },
      "source": [
        "Initializing board to blank characters"
      ]
    },
    {
      "cell_type": "code",
      "metadata": {
        "id": "g0fOqwXvz4-Q"
      },
      "source": [
        "def initializeBoard():\n",
        "    board=[[' ' for _ in range(BoardSize)] for _ in range(BoardSize)]\n",
        "    nRows = (BoardSize//2)-1\n",
        "    for i in range(nRows):\n",
        "        if(i%2==0):\n",
        "            start = 1\n",
        "        else:\n",
        "            start = 0\n",
        "        for j in range(start,BoardSize,2):\n",
        "            board[i][j]='B'\n",
        "    for i in range(BoardSize-1,BoardSize-1-nRows,-1):\n",
        "        if(i%2==0):\n",
        "            start = 1\n",
        "        else:\n",
        "            start = 0\n",
        "        for j in range(start,BoardSize,2):\n",
        "            board[i][j]='R'\n",
        "    return board"
      ],
      "execution_count": 3,
      "outputs": []
    },
    {
      "cell_type": "markdown",
      "metadata": {
        "id": "LWRV7qH2z4-Q"
      },
      "source": [
        "Checks if game has reached its end"
      ]
    },
    {
      "cell_type": "code",
      "metadata": {
        "id": "U9yiKSlsz4-Q"
      },
      "source": [
        "def isGameOver(board, symbol):\n",
        "    for i in range(BoardSize):\n",
        "        for j in range(BoardSize):\n",
        "            if(board[i][j]!=symbol):\n",
        "                return 0\n",
        "    return 1"
      ],
      "execution_count": 4,
      "outputs": []
    },
    {
      "cell_type": "code",
      "metadata": {
        "id": "rX-7HpwHz4-Q"
      },
      "source": [
        "def canJump(board,symbol,r1,c1,r2,c2,r3,c3):\n",
        "    if(r3 < 0 or r3 >= BoardSize or c3 < 0 or c3 >= BoardSize):\n",
        "        return False\n",
        "    if(board[r3][c3]!=' '):\n",
        "        return False\n",
        "    if (symbol == 'R'):\n",
        "        if (board[r1][c1] == 'R' and r3 > r1):\n",
        "            return False\n",
        "        if (board[r2][c2] != 'B' and board[r2][c2] != 'KB'):\n",
        "            return False\n",
        "        return True;\n",
        "    \n",
        "    else:\n",
        "        if (board[r1][c1] == 'B' and r3 < r1):\n",
        "            return False\n",
        "        if (board[r2][c2] != 'R' and board[r2][c2] != 'KR'):\n",
        "            return False\n",
        "        return True"
      ],
      "execution_count": 5,
      "outputs": []
    },
    {
      "cell_type": "code",
      "metadata": {
        "id": "glrligUyz4-Q"
      },
      "source": [
        "def canMove(board,symbol,r1,c1,r2,c2):\n",
        "    if (r2 < 0 or r2 >= BoardSize or c2 < 0 or c2 >= BoardSize):\n",
        "        return False\n",
        "\n",
        "    if (board[r2][c2] != ' '):\n",
        "        return False\n",
        "\n",
        "    if (symbol == 'R'):\n",
        "        if (board[r1][c1] == 'R' and r2 > r1):\n",
        "            return False\n",
        "        return True\n",
        "    \n",
        "    else:\n",
        "        if (board[r1][c1] == 'B' and r2 < r1):\n",
        "            return False\n",
        "        return True"
      ],
      "execution_count": 6,
      "outputs": []
    },
    {
      "cell_type": "code",
      "metadata": {
        "id": "l69DL6m54xkT"
      },
      "source": [
        "def makeKings(board):\n",
        "  for j in range(BoardSize):\n",
        "    if(board[0][j]=='R'):\n",
        "      board[0][j]='KR'\n",
        "    if(board[BoardSize-1][j]=='B'):\n",
        "      board[BoardSize-1][j]='KB'"
      ],
      "execution_count": 7,
      "outputs": []
    },
    {
      "cell_type": "markdown",
      "metadata": {
        "id": "Qe4bGTpDz4-Q"
      },
      "source": [
        "Returns an array of all possible next moves"
      ]
    },
    {
      "cell_type": "code",
      "metadata": {
        "id": "W8-ftnyhz4-Q"
      },
      "source": [
        "def getLegalMoves(boardState, symbol):\n",
        "    \n",
        "    legalMoves = []\n",
        "    \n",
        "    if(symbol=='B'):\n",
        "        playerKing='KB'\n",
        "    else:\n",
        "        playerKing='KR'\n",
        "    for i in range(len(boardState[0])):\n",
        "        for j in range(len(boardState[0])):\n",
        "            if(boardState[i][j]==symbol or boardState[i][j]==playerKing):\n",
        "                if(canJump(boardState,symbol,i,j,i+1,j+1,i+2,j+2)):\n",
        "                    tempBoard = copy.deepcopy(boardState)\n",
        "                    tempBoard[i+2][j+2]=tempBoard[i][j]\n",
        "                    tempBoard[i][j]=' '\n",
        "                    tempBoard[i+1][j+1]=' '\n",
        "                    makeKings(boardState)\n",
        "                    legalMoves.append(tempBoard)\n",
        "                if(canJump(boardState,symbol,i,j,i-1,j+1,i-2,j+2)):\n",
        "                    tempBoard = copy.deepcopy(boardState)\n",
        "                    tempBoard[i-2][j+2]=tempBoard[i][j]\n",
        "                    tempBoard[i][j]=' '\n",
        "                    tempBoard[i-1][j+1]=' '\n",
        "                    makeKings(boardState)\n",
        "                    legalMoves.append(tempBoard)\n",
        "                if(canJump(boardState,symbol,i,j,i+1,j-1,i+2,j-2)):\n",
        "                    tempBoard = copy.deepcopy(boardState)\n",
        "                    tempBoard[i+2][j-2]=tempBoard[i][j]\n",
        "                    tempBoard[i][j]=' '\n",
        "                    tempBoard[i+1][j-1]=' '\n",
        "                    makeKings(boardState)\n",
        "                    legalMoves.append(tempBoard)\n",
        "                if(canJump(boardState,symbol,i,j,i-1,j-1,i-2,j-2)):\n",
        "                    tempBoard = copy.deepcopy(boardState)\n",
        "                    tempBoard[i-2][j-2]=tempBoard[i][j]\n",
        "                    tempBoard[i][j]=' '\n",
        "                    tempBoard[i-1][j-1]=' '\n",
        "                    makeKings(boardState)\n",
        "                    legalMoves.append(tempBoard)\n",
        "    if(len(legalMoves)==0):\n",
        "        for i in range(len(boardState[0])):\n",
        "            for j in range(len(boardState[0])):\n",
        "                if(boardState[i][j]==symbol or boardState[i][j]==playerKing):\n",
        "                    if(canMove(boardState,symbol,i,j,i+1,j+1)):\n",
        "                        tempBoard = copy.deepcopy(boardState)\n",
        "                        tempBoard[i+1][j+1]=tempBoard[i][j]\n",
        "                        tempBoard[i][j]=' '\n",
        "                        makeKings(boardState)\n",
        "                        legalMoves.append(tempBoard)\n",
        "                    if(canMove(boardState,symbol,i,j,i-1,j+1)):\n",
        "                        tempBoard = copy.deepcopy(boardState)\n",
        "                        tempBoard[i-1][j+1]=tempBoard[i][j]\n",
        "                        tempBoard[i][j]=' '\n",
        "                        makeKings(boardState)\n",
        "                        legalMoves.append(tempBoard)\n",
        "                    if(canMove(boardState,symbol,i,j,i+1,j-1)):\n",
        "                        tempBoard = copy.deepcopy(boardState)\n",
        "                        tempBoard[i+1][j-1]=tempBoard[i][j]\n",
        "                        tempBoard[i][j]=' '\n",
        "                        makeKings(boardState)\n",
        "                        legalMoves.append(tempBoard)\n",
        "                    if(canMove(boardState,symbol,i,j,i-1,j-1)):\n",
        "                        tempBoard = copy.deepcopy(boardState)\n",
        "                        tempBoard[i-1][j-1]=tempBoard[i][j]\n",
        "                        tempBoard[i][j]=' '\n",
        "                        makeKings(boardState)\n",
        "                        legalMoves.append(tempBoard)\n",
        "    \n",
        "    return legalMoves"
      ],
      "execution_count": 8,
      "outputs": []
    },
    {
      "cell_type": "markdown",
      "metadata": {
        "id": "kzy9jAH4z4-Q"
      },
      "source": [
        "Extracts feature vector. Each feature is defined as:\n",
        "\n",
        "For ($1\\le i \\le BoardSize$):\n",
        "\n",
        "$x_i$ = sum of the counts of number of \"symbol1\" in all rows or columns is i\n",
        "\n",
        "For ($BoardSize + 1 \\le i \\le 2*BoardSize$):\n",
        "\n",
        "$x_i$ = sum of the counts of number of \"symbol2\" in all rows or columns is i"
      ]
    },
    {
      "cell_type": "code",
      "metadata": {
        "id": "O3yjmOATz4-Q"
      },
      "source": [
        "def getFeatures(board, symbol1, symbol2):\n",
        "    \n",
        "    x = np.zeros(7)\n",
        "    x[0]=1\n",
        "    for i in range(BoardSize):\n",
        "        for j in range(BoardSize):\n",
        "            if(board[i][j]==symbol1):\n",
        "                x[1]+=1\n",
        "            elif(board[i][j]==symbol2):\n",
        "                x[2]+=1\n",
        "            elif(board[i][j]==('K'+symbol1)):\n",
        "                x[3]+=1\n",
        "            elif(board[i][j]==('K'+symbol2)):\n",
        "                x[4]+=1\n",
        "            if(board[i][j]==symbol1 or board[i][j]==('K'+symbol1)):\n",
        "                if(canJump(board,symbol1,i,j,i+1,j+1,i+2,j+2)):\n",
        "                    x[5]+=1\n",
        "                if(canJump(board,symbol1,i,j,i-1,j+1,i-2,j+2)):\n",
        "                    x[5]+=1\n",
        "                if(canJump(board,symbol1,i,j,i+1,j-1,i+2,j-2)):\n",
        "                    x[5]+=1\n",
        "                if(canJump(board,symbol1,i,j,i-1,j-1,i-2,j-2)):\n",
        "                    x[5]+=1\n",
        "            elif(board[i][j]==symbol2 or board[i][j]==('K'+symbol2)):\n",
        "                if(canJump(board,symbol2,i,j,i+1,j+1,i+2,j+2)):\n",
        "                    x[6]+=1\n",
        "                if(canJump(board,symbol2,i,j,i-1,j+1,i-2,j+2)):\n",
        "                    x[6]+=1\n",
        "                if(canJump(board,symbol2,i,j,i+1,j-1,i+2,j-2)):\n",
        "                    x[6]+=1\n",
        "                if(canJump(board,symbol2,i,j,i-1,j-1,i-2,j-2)):\n",
        "                    x[6]+=1\n",
        "    return x"
      ],
      "execution_count": 9,
      "outputs": []
    },
    {
      "cell_type": "markdown",
      "metadata": {
        "id": "crSPBAhAz4-Q"
      },
      "source": [
        "This function prints the board in a visually sound format"
      ]
    },
    {
      "cell_type": "code",
      "metadata": {
        "id": "AiOnV8wnz4-Q"
      },
      "source": [
        "def printBoard(board):\n",
        "    for i in range(BoardSize):\n",
        "        for j in range(BoardSize):\n",
        "            print(board[i][j],end='|')\n",
        "        print()\n",
        "        for _ in range(2*BoardSize):\n",
        "            print(\"-\",end='')\n",
        "        print()"
      ],
      "execution_count": 10,
      "outputs": []
    },
    {
      "cell_type": "markdown",
      "metadata": {
        "id": "pXi5OF87z4-Q"
      },
      "source": [
        "Computes weighted sum of weight vector and feature vector to get the Non-Final Board state\n",
        "\n",
        "$ z = \\sum_{i=0}^{n}w_{i}.x_{i}$"
      ]
    },
    {
      "cell_type": "code",
      "metadata": {
        "id": "uxoh1rfSz4-Q"
      },
      "source": [
        "def getNonFinalBoardScore(weightVector,featureVector):\n",
        "    weightVector = np.array(weightVector).reshape((len(weightVector),1))\n",
        "    featureVector = np.array(featureVector).reshape((len(featureVector),1))\n",
        "    boardScore = np.dot(weightVector.T,featureVector)\n",
        "    return(boardScore[0][0])"
      ],
      "execution_count": 11,
      "outputs": []
    },
    {
      "cell_type": "markdown",
      "metadata": {
        "id": "hu2aGlF1z4-Q"
      },
      "source": [
        "Chooses the next move based on the board state which has maximum board score"
      ]
    },
    {
      "cell_type": "code",
      "metadata": {
        "id": "Pg5zyBSjz4-Q"
      },
      "source": [
        "def chooseMove(board,symbol1,symbol2,weightVector):\n",
        "\n",
        "    legalMoves = getLegalMoves(board,symbol1)\n",
        "    if(len(legalMoves)==0):\n",
        "      return -1\n",
        "    legalMoveScores = [getNonFinalBoardScore(weightVector,\n",
        "                                             getFeatures(i,symbol1,symbol2)) for i in legalMoves]\n",
        "    return legalMoves[np.argmax(legalMoveScores)]"
      ],
      "execution_count": 12,
      "outputs": []
    },
    {
      "cell_type": "markdown",
      "metadata": {
        "id": "byhhTVOQz4-Q"
      },
      "source": [
        "Random move choice made by the opponent the computer is playing with in the training phase, as the model learns by playing itself"
      ]
    },
    {
      "cell_type": "code",
      "metadata": {
        "id": "F5RoK8qlz4-Q"
      },
      "source": [
        "def chooseRandomMove(board,symbol):\n",
        "    legalMoves = getLegalMoves(board,symbol)\n",
        "    if(len(legalMoves)==0):\n",
        "      return -1\n",
        "    return random.choice(legalMoves)"
      ],
      "execution_count": 13,
      "outputs": []
    },
    {
      "cell_type": "markdown",
      "metadata": {
        "id": "A3Hok4MAz4-Q"
      },
      "source": [
        "The model plays a game with itself where the opponent is a random move chooser. This function generates and stores the game history of a single game from start to finish, used for training."
      ]
    },
    {
      "cell_type": "code",
      "metadata": {
        "id": "d511pzL9z4-Q"
      },
      "source": [
        "def getGameHistory(symbols,weightVector1,weightVector2,board):\n",
        "    gameHistory = []\n",
        "    gameStatusFlag = True\n",
        "    \n",
        "    tempBoard = copy.deepcopy(board)\n",
        "    while(gameStatusFlag):\n",
        "        tempBoard = chooseMove(tempBoard,symbols[0],symbols[1],weightVector1)\n",
        "        if(tempBoard==-1):\n",
        "          break\n",
        "        gameHistory.append(tempBoard)\n",
        "        gameStatusFlag = not isGameOver(tempBoard,symbols[0])\n",
        "        if(gameStatusFlag == False):\n",
        "            break\n",
        "        tempBoard = chooseRandomMove(tempBoard,symbols[1])\n",
        "        if(tempBoard==-1):\n",
        "          break;\n",
        "        gameHistory.append(tempBoard)\n",
        "        gameStatusFlag =  not isGameOver(tempBoard,symbols[1])\n",
        "    return gameHistory"
      ],
      "execution_count": 14,
      "outputs": []
    },
    {
      "cell_type": "markdown",
      "metadata": {
        "id": "wgPYku2Oz4-Q"
      },
      "source": [
        "Assigning +100 value to a final winning board state and -100 to final losing board state.\n",
        "For a drawn game, value 0 is assigned."
      ]
    },
    {
      "cell_type": "code",
      "metadata": {
        "id": "MEPyHs-4z4-Q"
      },
      "source": [
        "def getFinalBoardScore(board,symbol1,symbol2):\n",
        "\n",
        "    # If game ends in a draw\n",
        "    score = 0\n",
        "    # If player-1 wins\n",
        "    if(isGameOver(board,symbol1)):\n",
        "        score = 100\n",
        "    # If player-2 (i.e opponent) wins\n",
        "    elif(isGameOver(board,symbol2)):\n",
        "        score = -100\n",
        "    \n",
        "    return score"
      ],
      "execution_count": 15,
      "outputs": []
    },
    {
      "cell_type": "markdown",
      "metadata": {
        "id": "AVxHfvuuz4-R"
      },
      "source": [
        "Computes scores of all board states in the game history and returns it as \"TrainingData\""
      ]
    },
    {
      "cell_type": "code",
      "metadata": {
        "id": "DmNPjnfLz4-R"
      },
      "source": [
        "def getTrainingSamples(weightVector,symbol1,symbol2,gameHistory):\n",
        "\n",
        "    trainingData=[]\n",
        "    for i in range(len(gameHistory)-1):\n",
        "        featureVector = getFeatures(gameHistory[i+1],symbol1,symbol2)\n",
        "        trainingData.append([featureVector,getNonFinalBoardScore(weightVector,featureVector)])\n",
        "    trainingData.append([getFeatures(gameHistory[-1],symbol1,symbol2),\n",
        "        getFinalBoardScore(gameHistory[-1],symbol1,symbol2)])\n",
        "    return trainingData"
      ],
      "execution_count": 16,
      "outputs": []
    },
    {
      "cell_type": "markdown",
      "metadata": {
        "id": "zBlGJEVEz4-R"
      },
      "source": [
        "Returns count of wins, losses and drawn games"
      ]
    },
    {
      "cell_type": "code",
      "metadata": {
        "id": "QKiHKdzWz4-R"
      },
      "source": [
        "def getGameStatusCount(symbol1,symbol2,gameStatusCount,gameHistory):\n",
        "\n",
        "#     for board in gameHistory:\n",
        "#         printBoard(board)\n",
        "    finalScore = getFinalBoardScore(gameHistory[-1],symbol1,symbol2)\n",
        "    if(finalScore == 100):\n",
        "#         print(symbol1 + \" wins\")\n",
        "        gameStatusCount[0] += 1\n",
        "    elif(finalScore == -100):\n",
        "#         print(symbol2 + \" wins\")\n",
        "        gameStatusCount[1] += 1\n",
        "    else:\n",
        "#         print(\"Draw\")\n",
        "        gameStatusCount[2] += 1\n",
        "    return gameStatusCount"
      ],
      "execution_count": 17,
      "outputs": []
    },
    {
      "cell_type": "markdown",
      "metadata": {
        "id": "tf-aPvedz4-R"
      },
      "source": [
        "Least Mean Square (LMS) weight update rule is applied here as:\n",
        "\n",
        "$W_i = W_i + \\alpha * (\\hat{V}(boardState)-\\hat{V}(Successor(boardState))) * X $\n",
        "\n",
        "Here $\\hat{V}(b)$ is the real valued score assigned to board state b\n",
        "\n",
        "$\\alpha$ is the learning rate\n",
        "\n",
        "$Successor(b)$ is the next board state"
      ]
    },
    {
      "cell_type": "code",
      "metadata": {
        "id": "al1q75Trz4-R"
      },
      "source": [
        "def LMSRule(weightVector,trainData,lRate=0.01):\n",
        "    for t in trainData:\n",
        "        vTrainBoardState = t[1]\n",
        "        vHatBoardState = getNonFinalBoardScore(weightVector,t[0])\n",
        "        weightVector = weightVector + (lRate * (vTrainBoardState - vHatBoardState) * np.array(t[0]))\n",
        "    return weightVector"
      ],
      "execution_count": 18,
      "outputs": []
    },
    {
      "cell_type": "code",
      "metadata": {
        "id": "bs1c7Aljz4-R"
      },
      "source": [
        "symbols = ('R','B')\n",
        "numTrainingExamples = 10"
      ],
      "execution_count": 19,
      "outputs": []
    },
    {
      "cell_type": "markdown",
      "metadata": {
        "id": "OYPjC0Znz4-R"
      },
      "source": [
        "### Training the Model\n",
        "\n",
        "Using all function defined above:\n",
        "\n",
        "The *Experiment Generator* gives the initial board state.\n",
        "\n",
        "The *Performance System* solves the task, here it is playing a game of Tic-Tac-Toe by using learnt weights.\n",
        "\n",
        "The *Critic* takes input the game history and outputs set of training samples of the target function.\n",
        "\n",
        "The *Generalizer* here is the LMS algorithm that takes input the generated training samples and updates the weights."
      ]
    },
    {
      "cell_type": "code",
      "metadata": {
        "scrolled": false,
        "colab": {
          "base_uri": "https://localhost:8080/"
        },
        "id": "UVANOG9Uz4-R",
        "outputId": "6155d45e-0074-4b29-bb1b-039666fed7c3"
      },
      "source": [
        "weightVectors = [np.random.rand(7),np.random.rand(7)]\n",
        "gameStatusCount = [0,0,0]\n",
        "\n",
        "for _ in range(numTrainingExamples):\n",
        "    \n",
        "    # Experiment Generator\n",
        "    initialBoardState = initializeBoard()\n",
        "\n",
        "    # Performance System\n",
        "    gameHistory = getGameHistory(symbols,weightVectors[0],weightVectors[1],initialBoardState)\n",
        "\n",
        "    # Critic\n",
        "    trainDataPlayer1 = getTrainingSamples(weightVectors[0],symbols[0],symbols[1],gameHistory)\n",
        "    trainDataPlayer2 = getTrainingSamples(weightVectors[1],symbols[1],symbols[0],gameHistory)\n",
        "    \n",
        "    # Display board states\n",
        "    gameStatusCount = getGameStatusCount(symbols[0],symbols[1],gameStatusCount,gameHistory)\n",
        "\n",
        "    # Generalizer\n",
        "    weightVectors = [LMSRule(weightVectors[0],trainDataPlayer1),LMSRule(weightVectors[1],trainDataPlayer1)]\n",
        "\n",
        "\n",
        "print(\"\\nTraining Results: (\" + \"#Games Player-1 Wins = \" + str(gameStatusCount[0]) +\n",
        "    \", #Games Player-2 Wins = \" + str(gameStatusCount[1]) + \", Games Drawn = \" + str(gameStatusCount[2]) +\n",
        "    \")\\n\")\n",
        "\n",
        "# Weight Learnt from previous games\n",
        "learntWeight =  list(np.mean(np.array([weightVectors[0],weightVectors[1]]),axis = 0))\n",
        "print(\"Final Learnt Weight Vector: \\n\"+ str(learntWeight))\n",
        "\n"
      ],
      "execution_count": 20,
      "outputs": [
        {
          "output_type": "stream",
          "text": [
            "\n",
            "Training Results: (#Games Player-1 Wins = 0, #Games Player-2 Wins = 0, Games Drawn = 10)\n",
            "\n",
            "Final Learnt Weight Vector: \n",
            "[1298.377760422525, 8723.618050570198, -2965.9339124193093, 52.47644225498596, 173.74189996562745, -15289.563084442285, 17518.53651912602]\n"
          ],
          "name": "stdout"
        }
      ]
    },
    {
      "cell_type": "markdown",
      "metadata": {
        "id": "L6CQAb8Kz4-R"
      },
      "source": [
        "### Play the Checkers game with the learned model"
      ]
    },
    {
      "cell_type": "code",
      "metadata": {
        "scrolled": false,
        "colab": {
          "base_uri": "https://localhost:8080/"
        },
        "id": "bDnDOiC-z4-R",
        "outputId": "7f7ad501-408f-4eae-dfb3-12a620d4c67c"
      },
      "source": [
        "print(\"\\nStart Playing with Computer?(y/n)\")\n",
        "ans = input() \n",
        "while(ans == \"y\"):\n",
        "    \n",
        "    boardState = initializeBoard()\n",
        "    gameStatusFlag = True\n",
        "    gameHistory = []\n",
        "    print(\"\\nGame begins!!! You play with Red\\n\")\n",
        "    printBoard(boardState)\n",
        "    while(gameStatusFlag):\n",
        "        print('Your Turn:\\n')\n",
        "        print('Enter Row number (0-',BoardSize-1,\")\")\n",
        "        x = int(input())\n",
        "        print('Enter Column number (0-',BoardSize-1,\")\")\n",
        "        y = int(input())\n",
        "        print('Enter direction (0 for left diagonal, 1 for right diagonal)')\n",
        "        dir = int(input())\n",
        "        boardState[x][y] = ' '\n",
        "        if(dir==0):\n",
        "          if(canJump(boardState,'R',x,y,x-1,y-1,x-2,y-2)):\n",
        "            boardState[x-2][y-2]='R'\n",
        "            boardState[x-1][y-1]=' '\n",
        "            boardState[x][y]=' '\n",
        "          else:\n",
        "            boardState[x-1][y-1]='R'\n",
        "            boardState[x][y]=' '\n",
        "        else:\n",
        "          if(canJump(boardState,'R',x,y,x-1,y+1,x-2,y+2)):\n",
        "            boardState[x-2][y+2]='R'\n",
        "            boardState[x-1][y+1]=' '\n",
        "            boardState[x][y]=' '\n",
        "          else:\n",
        "            boardState[x-1][y+1]='R'\n",
        "            boardState[x][y]=' '\n",
        "        makeKings(boardState)\n",
        "        printBoard(boardState)\n",
        "        gameHistory.append(boardState)\n",
        "        gameStatusFlag =  not isGameOver(boardState,'R')\n",
        "        if(gameStatusFlag == False):\n",
        "            break\n",
        "        boardState = chooseMove(boardState,'B','R',learntWeight)\n",
        "        print('Computers\\'s Turn:\\n')\n",
        "        printBoard(boardState)\n",
        "        gameHistory.append(boardState)\n",
        "        gameStatusFlag = not isGameOver(boardState,'B')\n",
        "        \n",
        "    if(isGameOver(boardState,'B')):\n",
        "        print(\"Computer Wins!!!\")\n",
        "    elif(isGameOver(boardState,'R')):\n",
        "        print(\"You Win!!!\")\n",
        "    else:\n",
        "        print(\"Game is drawn!!!\")\n",
        "    print(\"Do you want to play another game?(y/n).\")\n",
        "    ans = input()\n",
        "    if(ans != 'y'):\n",
        "        break"
      ],
      "execution_count": null,
      "outputs": [
        {
          "output_type": "stream",
          "text": [
            "\n",
            "Start Playing with Computer?(y/n)\n",
            "\n",
            "Game begins!!! You play with Red\n",
            "\n",
            " |B| |B| |B| |B|\n",
            "----------------\n",
            "B| |B| |B| |B| |\n",
            "----------------\n",
            " |B| |B| |B| |B|\n",
            "----------------\n",
            " | | | | | | | |\n",
            "----------------\n",
            " | | | | | | | |\n",
            "----------------\n",
            "R| |R| |R| |R| |\n",
            "----------------\n",
            " |R| |R| |R| |R|\n",
            "----------------\n",
            "R| |R| |R| |R| |\n",
            "----------------\n",
            "Your Turn:\n",
            "\n",
            "Enter Row number (0- 7 )\n",
            "Enter Column number (0- 7 )\n",
            "Enter direction (0 for left diagonal, 1 for right diagonal)\n",
            " |B| |B| |B| |B|\n",
            "----------------\n",
            "B| |B| |B| |B| |\n",
            "----------------\n",
            " |B| |B| |B| |B|\n",
            "----------------\n",
            " | | | | | | | |\n",
            "----------------\n",
            " | | |R| | | | |\n",
            "----------------\n",
            "R| | | |R| |R| |\n",
            "----------------\n",
            " |R| |R| |R| |R|\n",
            "----------------\n",
            "R| |R| |R| |R| |\n",
            "----------------\n",
            "Computers's Turn:\n",
            "\n",
            " |B| |B| |B| |B|\n",
            "----------------\n",
            "B| |B| |B| |B| |\n",
            "----------------\n",
            " | | |B| |B| |B|\n",
            "----------------\n",
            " | |B| | | | | |\n",
            "----------------\n",
            " | | |R| | | | |\n",
            "----------------\n",
            "R| | | |R| |R| |\n",
            "----------------\n",
            " |R| |R| |R| |R|\n",
            "----------------\n",
            "R| |R| |R| |R| |\n",
            "----------------\n",
            "Your Turn:\n",
            "\n",
            "Enter Row number (0- 7 )\n",
            "Enter Column number (0- 7 )\n",
            "Enter direction (0 for left diagonal, 1 for right diagonal)\n",
            " |B| |B| |B| |B|\n",
            "----------------\n",
            "B| |B| |B| |B| |\n",
            "----------------\n",
            " |R| |B| |B| |B|\n",
            "----------------\n",
            " | | | | | | | |\n",
            "----------------\n",
            " | | | | | | | |\n",
            "----------------\n",
            "R| | | |R| |R| |\n",
            "----------------\n",
            " |R| |R| |R| |R|\n",
            "----------------\n",
            "R| |R| |R| |R| |\n",
            "----------------\n",
            "Computers's Turn:\n",
            "\n",
            " |B| |B| |B| |B|\n",
            "----------------\n",
            " | |B| |B| |B| |\n",
            "----------------\n",
            " | | |B| |B| |B|\n",
            "----------------\n",
            " | |B| | | | | |\n",
            "----------------\n",
            " | | | | | | | |\n",
            "----------------\n",
            "R| | | |R| |R| |\n",
            "----------------\n",
            " |R| |R| |R| |R|\n",
            "----------------\n",
            "R| |R| |R| |R| |\n",
            "----------------\n",
            "Your Turn:\n",
            "\n",
            "Enter Row number (0- 7 )\n",
            "5\n",
            "Enter Column number (0- 7 )\n"
          ],
          "name": "stdout"
        }
      ]
    }
  ]
}